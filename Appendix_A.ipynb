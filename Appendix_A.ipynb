{
 "cells": [
  {
   "cell_type": "markdown",
   "id": "ea1cba0e-1d08-4fb3-8b1c-7412ae6f6b25",
   "metadata": {
    "iooxa": {
     "id": {
      "block": "jaWpb1vvi0MYotOLwVNZ",
      "project": "jgvqk8unpXkODpPc9NbF",
      "version": 1
     }
    },
    "tags": []
   },
   "source": [
    "<font size='6'><b><center>Appendix A</center></b></font>\n",
    "<font size='6'><b><center>Scipy Optimize Theoretical Toy Model</center></b></font>"
   ]
  },
  {
   "cell_type": "markdown",
   "id": "e04ee7b3-1965-4a0c-bc17-75463a1e8335",
   "metadata": {},
   "source": [
    "The following two cells enable automatic equation numbering for this document using <a href=\"https://jupyter-contrib-nbextensions.readthedocs.io/en/latest/nbextensions/equation-numbering/readme.html\">MathJax</a>."
   ]
  },
  {
   "cell_type": "code",
   "execution_count": 3,
   "id": "89259827-8e51-4d63-ab2f-98349ec7c56d",
   "metadata": {
    "tags": []
   },
   "outputs": [
    {
     "data": {
      "application/javascript": [
       "MathJax.Hub.Config({\n",
       "    TeX: { equationNumbers: { autoNumber: \"AMS\" } }\n",
       "});\n"
      ],
      "text/plain": [
       "<IPython.core.display.Javascript object>"
      ]
     },
     "metadata": {},
     "output_type": "display_data"
    }
   ],
   "source": [
    "%%javascript\n",
    "MathJax.Hub.Config({\n",
    "    TeX: { equationNumbers: { autoNumber: \"AMS\" } }\n",
    "});"
   ]
  },
  {
   "cell_type": "code",
   "execution_count": 4,
   "id": "91c77b79-174e-4237-84a4-4c14933f618d",
   "metadata": {
    "tags": []
   },
   "outputs": [
    {
     "data": {
      "application/javascript": [
       "MathJax.Hub.Queue(\n",
       "  [\"resetEquationNumbers\", MathJax.InputJax.TeX],\n",
       "  [\"PreProcess\", MathJax.Hub],\n",
       "  [\"Reprocess\", MathJax.Hub]\n",
       ");\n"
      ],
      "text/plain": [
       "<IPython.core.display.Javascript object>"
      ]
     },
     "metadata": {},
     "output_type": "display_data"
    }
   ],
   "source": [
    "%%javascript\n",
    "MathJax.Hub.Queue(\n",
    "  [\"resetEquationNumbers\", MathJax.InputJax.TeX],\n",
    "  [\"PreProcess\", MathJax.Hub],\n",
    "  [\"Reprocess\", MathJax.Hub]\n",
    ");"
   ]
  },
  {
   "cell_type": "code",
   "execution_count": 3,
   "id": "36845b92",
   "metadata": {},
   "outputs": [],
   "source": [
    "fig_num = 1"
   ]
  },
  {
   "cell_type": "markdown",
   "id": "e30a3bb0-a32d-4bc2-86dd-df42165ee9b5",
   "metadata": {},
   "source": [
    "# Fundamental problem"
   ]
  },
  {
   "cell_type": "markdown",
   "id": "d4d314a4-95b8-4e05-a973-6a71315cb5f5",
   "metadata": {},
   "source": [
    "Observing a galaxy's line luminosity with a single-dish telescope, we can represent this value as a weighted sum over several molecular clouds. If we say these clouds fall into $m$ cloud categories and we are observing $n$ molecular emission lines, the ($m\\times{}n$)-dimensional cloud luminosity can be represented by $\\hat{L}_{\\text{cloud}}$ and the $n$-dimensional galaxy luminosity can be represented as $\\vec{L}_{\\text{gal}}$. Thus, the galaxy's line luminosity in emission line $j$ can be expressed as"
   ]
  },
  {
   "cell_type": "markdown",
   "id": "d7956364-5f0d-40a1-bc9d-e6e1e720e59c",
   "metadata": {},
   "source": [
    "\\begin{equation}\n",
    "{L}_{\\text{gal},\\,j} = \n",
    "    {L}_{\\text{a},\\,j} \\cdot w_\\text{a}+\n",
    "    \\ldots+\n",
    "    {L}_{m,\\,j} \\cdot w_m \\quad ,\n",
    "\\end{equation}\n",
    "\n",
    "or as\n",
    "\n",
    "\\begin{align}\n",
    "\\vec{L}_{\\text{gal}} &= \n",
    "    \\sum_{i}^m \\vec{L}_i \\cdot w_i \\\\\n",
    "    & = \\hat{L}_{\\text{cloud}} \\cdot \\vec{w} \\quad , \n",
    "    \\label{eq:main_eq}\n",
    "\\end{align}"
   ]
  },
  {
   "cell_type": "markdown",
   "id": "9e83bf3c-26f0-4a64-8ce0-cd41fcd1faf9",
   "metadata": {},
   "source": [
    "where $\\vec{w}$ is an $m$-dimensional vector representing the weight for each molecular cloud category. Thus, our question is *if the galaxy luminosity $\\vec{L}_{\\mathrm{gal}}$ and molecular cloud luminosity $\\hat{L}_{\\text{cloud}}$ are known, can we determine the weight $w_i$ that each cloud category has on the combined signal?*"
   ]
  },
  {
   "cell_type": "markdown",
   "id": "6ec4bf0b",
   "metadata": {},
   "source": [
    "In theory, this problem is a high-dimensional system of linear equations, where there are $n$ constraints and $m$ unknowns. So, it's reasonable to assume the weight coefficients $\\vec{w}$ can be accurately predicted only when the system has fewer constraints than unknowns."
   ]
  },
  {
   "cell_type": "markdown",
   "id": "19014f5d-ec2d-4022-9f6e-367acbdf3e03",
   "metadata": {},
   "source": [
    "Here, we approach this question as a theoretical optimization problem, where we minimize the difference between a galaxy model $\\vec{L}_{\\mathrm{model}}$ and our synthetic observations $\\vec{L}_{\\mathrm{gal}}$. In other words, the \"distance\" between both vectors is minimized to predict weights $\\vec{w}$ which produce our observations. This distance can be expressed as"
   ]
  },
  {
   "cell_type": "markdown",
   "id": "97a4c086-8165-41b1-a52a-eb56fa729e24",
   "metadata": {},
   "source": [
    "\\begin{equation}\n",
    "{F_{\\vec{L}}=(\\vec{L}_{\\mathrm{gal}}-\\vec{L}_{\\mathrm{model}})^2} \\quad . \\label{eq:dist_eq}\n",
    "\\end{equation}"
   ]
  },
  {
   "cell_type": "markdown",
   "id": "Mt3Hsw4Rajh9",
   "metadata": {
    "id": "Mt3Hsw4Rajh9",
    "iooxa": {
     "id": {
      "block": "CHbHaeGOBvaxSiZls7K2",
      "project": "jgvqk8unpXkODpPc9NbF",
      "version": 1
     }
    }
   },
   "source": [
    "# Setting up the model"
   ]
  },
  {
   "cell_type": "markdown",
   "id": "e6fca0f4-a915-41b5-bfd3-14c185d551ee",
   "metadata": {
    "iooxa": {
     "id": {
      "block": "ioQBQCcr6LjN5wQMvReo",
      "project": "jgvqk8unpXkODpPc9NbF",
      "version": 1
     }
    }
   },
   "source": [
    "The minimization is performed using the `scipy.optimize.minimize` function. In some cases, a penalty term is desirable to ensure the minimization accurately represents system we are modeling. In this document, we implemented a penalty term $g(\\vec{w})$ to satisfy $w_i \\geq 0$ since negative weights can not physically exist in our system. The penalty term  ${g(\\vec{w})}$  can be added as"
   ]
  },
  {
   "cell_type": "markdown",
   "id": "1b32c115-dc9e-4998-93bb-b0885bdf2453",
   "metadata": {},
   "source": [
    "\\begin{equation}\n",
    "{F_{\\vec{L}}*  = F_{\\vec{L}} + g(\\vec{w})} \\quad ,\n",
    "\\\\ {\\text{ where } g(\\vec{w})= \n",
    "\\begin{cases} \n",
    "0 & w_i \\geq 0 \\\\ \\infty & w_i < 0 \n",
    "\\end{cases}} \\quad . \\label{eq:penalty_eq}\n",
    "\\end{equation}"
   ]
  },
  {
   "cell_type": "markdown",
   "id": "05366078-5628-4fe0-acf7-001c50cad63c",
   "metadata": {},
   "source": [
    "To analyze the accuracy of the weights outputted by our optimization, we calculate the percent error between the observed weight vector $\\vec{w}_{\\mathrm{obs}}$ and model weight vector $\\vec{w}_{\\mathrm{model}}$ as a vector $\\vec{w}_\\mathrm{err}$, where"
   ]
  },
  {
   "cell_type": "markdown",
   "id": "a362191d-9b4b-47ef-91e8-5095292abc5d",
   "metadata": {},
   "source": [
    "\\begin{equation}\n",
    "w_{\\mathrm{err},\\ i} = {{|w_{\\mathrm{model},\\ i}-w_{\\mathrm{obs},\\ i}|} \\over {w_{\\mathrm{obs},\\ i}}} \\quad . \\label{eq:error_eq}\n",
    "\\end{equation}"
   ]
  },
  {
   "cell_type": "markdown",
   "id": "90b765f1",
   "metadata": {},
   "source": [
    "An evaluation metric (e.g. mean, median, or maximum) is applied to $\\vec{w}_\\mathrm{err}$, resulting in a single representative error value."
   ]
  },
  {
   "cell_type": "markdown",
   "id": "b1f86a7e-d566-431b-9d50-d99f41398709",
   "metadata": {},
   "source": [
    "This document utilizes <a href=\"https://numpy.org/doc/stable/\"> NumPy</a>, <a href=\"https://docs.scipy.org/doc/scipy/\"> SciPy</a>, <a href=\"https://docs.astropy.org/en/stable/index.html\"> Astropy</a>, <a href=\"https://matplotlib.org/stable/index.html\"> Matplotlib</a>, and <a href=\"https://tqdm.github.io/docs/tqdm/\"> tqdm</a> libraries."
   ]
  },
  {
   "cell_type": "code",
   "execution_count": 4,
   "id": "c7eaf9db-1c98-4533-b8bd-3c758ce45590",
   "metadata": {
    "id": "c7eaf9db-1c98-4533-b8bd-3c758ce45590",
    "iooxa": {
     "id": {
      "block": "VFw97azKEY3jcfO0F8iq",
      "project": "jgvqk8unpXkODpPc9NbF",
      "version": 1
     },
     "outputId": null
    },
    "tags": []
   },
   "outputs": [],
   "source": [
    "import numpy as np\n",
    "import scipy.optimize as opt\n",
    "from scipy.optimize import Bounds\n",
    "from astropy.table import Table, vstack\n",
    "import matplotlib.pyplot as plt\n",
    "from tqdm import tqdm\n",
    "import time\n",
    "import warnings # removing warnings\n",
    "warnings.filterwarnings('ignore')\n",
    "\n",
    "# plotting specifications\n",
    "from cycler import cycler\n",
    "plt.rc('axes',prop_cycle=(cycler('color', ['k','b','g','r','c','m','y'])))\n",
    "plt.rcParams['text.usetex']= True\n",
    "plt.rcParams['mathtext.fontset']= 'custom'\n",
    "plt.rcParams['mathtext.default']= 'rm'\n",
    "plt.rcParams['axes.formatter.use_mathtext']=False\n",
    "#----------------------------------------\n",
    "plt.rcParams['font.size']= 15.0\n",
    "plt.rcParams['axes.labelsize']= 16.0\n",
    "plt.rcParams['axes.unicode_minus']= False\n",
    "plt.rcParams['xtick.major.size']= 6\n",
    "plt.rcParams['xtick.minor.size']= 3\n",
    "plt.rcParams['xtick.major.width']= 1.5\n",
    "plt.rcParams['xtick.minor.width']= 1.0\n",
    "plt.rcParams['axes.titlesize']= 20 \n",
    "plt.rcParams['xtick.labelsize'] = 20 \n",
    "plt.rcParams['ytick.labelsize']= 20 \n",
    "plt.rcParams['ytick.major.width']= 2.0 \n",
    "plt.rcParams['ytick.minor.width']= 1.0 \n",
    "\n",
    "%matplotlib inline"
   ]
  },
  {
   "cell_type": "markdown",
   "id": "96c55eb1-44be-41a7-9adc-c4739161d03f",
   "metadata": {
    "id": "96c55eb1-44be-41a7-9adc-c4739161d03f",
    "iooxa": {
     "id": {
      "block": "QnJLahBCjtz7leroLHIR",
      "project": "jgvqk8unpXkODpPc9NbF",
      "version": 1
     }
    }
   },
   "source": [
    "First, we define the function we intend to minimize (Eq. $\\ref{eq:dist_eq}$). An optional `penalty` term from Eq. $\\ref{eq:penalty_eq}$ can be passed through this function."
   ]
  },
  {
   "cell_type": "code",
   "execution_count": 5,
   "id": "cff3acbb-1a35-4004-8a72-9ef7dcec09ea",
   "metadata": {
    "id": "cff3acbb-1a35-4004-8a72-9ef7dcec09ea",
    "iooxa": {
     "id": {
      "block": "Zho22GFB6fHbmE6DGjqM",
      "project": "jgvqk8unpXkODpPc9NbF",
      "version": 1
     },
     "outputId": null
    },
    "tags": []
   },
   "outputs": [],
   "source": [
    "def dist_func(weights, m, gal_obs, cloud_obs, penalty):\n",
    "    '''\n",
    "    SUMMARY:\n",
    "    Computes the Euclidean distance between observed and model galaxy luminosity vectors\n",
    "\n",
    "    PARAMETERS:\n",
    "    weights (arr): m-dimensional weight vector\n",
    "    m (int): number of molecular clouds\n",
    "    g_luminosity (arr): n-dimensional galaxy luminosity vector\n",
    "    luminosities (arr): (m x n)-dimensional molecular cloud luminosity vector\n",
    "    penalty (bool): determines whether penalty variable is used for constraint\n",
    "    '''\n",
    "    # ---- penalty term ----\n",
    "    g = 0\n",
    "    if penalty:\n",
    "        for i in range(m):\n",
    "            if weights[i] < 0:\n",
    "                g = np.inf\n",
    "    # -------------------------\n",
    "    lModel = np.dot(weights,cloud_obs)\n",
    "    dist = np.linalg.norm(gal_obs - lModel)**2\n",
    "    return dist + g"
   ]
  },
  {
   "cell_type": "markdown",
   "id": "878535f7-5bb3-48f1-b234-b4f22f4da0c1",
   "metadata": {},
   "source": [
    "Next, we define a function which generates our synthetic observations satisfying Eq. $\\ref{eq:main_eq}$ and performs the minimization. Synthetic observations ${w}_{i}$ and ${L}_{i,\\,j}$ are sampled from random instances within [0,1], which produce ${L}_{\\mathrm{gal},\\,j}$. Measurement uncertainties $\\delta {L}_{i,\\,j}$ and $\\delta {L}_{\\mathrm{gal},\\,j}$ are sampled from random instances of a normal distribution with a standard deviation of 0.1, corrupting ${L}_{i,\\,j}$ and ${L}_{\\mathrm{gal},\\,j}$. These corruptions are added as"
   ]
  },
  {
   "cell_type": "markdown",
   "id": "1a3606e3-dbb6-4a5f-b219-eafe72ddc895",
   "metadata": {},
   "source": [
    "\\begin{equation}\n",
    "{\\hat{L}_{\\mathrm{cloud,\\ obs}} = \\hat{L}_{\\mathrm{cloud}} + \\delta \\hat{L}_{\\mathrm{cloud}}} \\quad , \\label{eq:likelihood_one_eq}\n",
    "\\end{equation}"
   ]
  },
  {
   "cell_type": "markdown",
   "id": "c40583db-61e8-4e9d-8e73-ec4e1613cd88",
   "metadata": {},
   "source": [
    "\\begin{equation}\n",
    "{\\vec{L}_{\\mathrm{gal,\\ obs}} = \\vec{L}_{\\mathrm{gal}} + \\delta \\vec{L}_{\\mathrm{gal}}} \\quad . \\label{eq:likelihood_two_eq}\n",
    "\\end{equation}"
   ]
  },
  {
   "cell_type": "markdown",
   "id": "a666bf98",
   "metadata": {},
   "source": [
    "These synthetic observations are not necessarily realistic, as luminosity signals normally vary within a broader range of values than [0,1]. In this work, we use small values to serve as a toy model approach to the theoretical problem. "
   ]
  },
  {
   "cell_type": "markdown",
   "id": "a992e055-9f65-4bdc-9cbd-808837cca0ad",
   "metadata": {},
   "source": [
    "We then pass $\\vec{L}_{\\mathrm{gal,\\ obs}}$ and $\\hat{L}_{\\mathrm{cloud,\\ obs}}$ on a routine that predicts $\\vec{w}$ through the minimization of Eq. $\\ref{eq:dist_eq}$. There is an optional `bounds_constraint` term passed through this minimization function. This is an alternative way of applying a penalty, where bounds on $\\vec{w}_{\\mathrm{model}}$ are applied directly within the `scipy.optimize.minimize` function."
   ]
  },
  {
   "cell_type": "code",
   "execution_count": 6,
   "id": "f29a5978-eaf2-4107-b4cc-41b910617721",
   "metadata": {
    "id": "f29a5978-eaf2-4107-b4cc-41b910617721",
    "iooxa": {
     "id": {
      "block": "E1TtQv1EcH87uBWWbfFR",
      "project": "jgvqk8unpXkODpPc9NbF",
      "version": 1
     },
     "outputId": null
    },
    "tags": []
   },
   "outputs": [],
   "source": [
    "def minimize(m, n, solver, bounds_constraint, penalty):\n",
    "    '''\n",
    "    SUMMARY:\n",
    "    Generates synthetic observation\n",
    "    Determines corresponding weights for this observation\n",
    "\n",
    "    PARAMETERS:\n",
    "    m (int): number of molecular clouds\n",
    "    n (int): number of emission lines\n",
    "    solver (str): type of SciPy minimize solver\n",
    "    bounds_constraint (bool): determines whether bounds are used for constraint\n",
    "    penalty (bool): determines whether penalty variable is used for constraint\n",
    "    '''\n",
    "    # true values\n",
    "    cloud_luminosity = np.random.rand(m,n)\n",
    "    weights = np.random.rand(m)\n",
    "    gal_luminosity = np.dot(weights, cloud_luminosity)\n",
    "    # known uncertainty\n",
    "    cloud_err = np.random.normal(0, 0.1, size=(m,n))\n",
    "    gal_err = np.random.normal(0, 0.1, size=(n))\n",
    "    # observations\n",
    "    cloud_obs = np.add(cloud_luminosity, cloud_err)\n",
    "    gal_obs = np.add(gal_luminosity, gal_err)\n",
    "\n",
    "    if bounds_constraint:\n",
    "        # applying constraint to weights\n",
    "        ub = np.full(m, 1)\n",
    "        lb = np.full(m, 0)\n",
    "        bnds = Bounds([lb],[ub])\n",
    "        # minimization\n",
    "        result = opt.minimize(dist_func,\n",
    "                              x0=np.full(m, 0.5),\n",
    "                              args=(m, gal_obs, cloud_obs, penalty),\n",
    "                              method = solver,\n",
    "                              bounds=bnds)\n",
    "    else:\n",
    "        # minimization\n",
    "        result = opt.minimize(dist_func,\n",
    "                              x0=np.full(m, 0.5),\n",
    "                              args=(m, gal_obs, cloud_obs, penalty),\n",
    "                              method = solver)\n",
    "    return {\"input_luminosities\": cloud_luminosity,\n",
    "            \"input_weights\": weights,\n",
    "            \"galaxy_luminosity\": gal_luminosity,\n",
    "            \"output_weights\": result.x,\n",
    "            \"F(l)\": result.fun}"
   ]
  },
  {
   "cell_type": "markdown",
   "id": "8b04edf0-df3a-44fe-b50c-50fdef41bf3a",
   "metadata": {},
   "source": [
    "To calculate how far off $\\vec{w}_{\\mathrm{model}}$ is from $\\vec{w}_{\\mathrm{obs}}$, we define the following function. An evaluation metric term `eval_metric` is applied to the error vector $\\vec{w}_\\mathrm{err}$ outputted by Eq. $\\ref{eq:error_eq}$, resulting in a single representative error value."
   ]
  },
  {
   "cell_type": "code",
   "execution_count": 7,
   "id": "21260ff8-daec-4f82-8106-d983ac4d41c7",
   "metadata": {
    "id": "21260ff8-daec-4f82-8106-d983ac4d41c7",
    "iooxa": {
     "id": {
      "block": "WqHIsVWcUWB5GTCJe94Z",
      "project": "jgvqk8unpXkODpPc9NbF",
      "version": 1
     },
     "outputId": null
    },
    "tags": []
   },
   "outputs": [],
   "source": [
    "def getPercentError(original, test, eval_metric):\n",
    "    '''\n",
    "    SUMMARY:\n",
    "    Applies specified percent error metric to weights\n",
    "\n",
    "    PARAMETERS:\n",
    "    original (arr): initial weight vector\n",
    "    test (arr): new weight vector\n",
    "    eval_metric (str): specified statistical metric\n",
    "    '''\n",
    "    absolute = np.absolute(np.subtract(test, original))\n",
    "    divided_absolute = np.divide(absolute, original) * 100\n",
    "\n",
    "    if eval_metric == \"mean\":\n",
    "        averaged_divided_absolute = np.average(divided_absolute)\n",
    "    elif eval_metric == \"max\":\n",
    "        averaged_divided_absolute = np.amax(divided_absolute)\n",
    "    elif eval_metric == \"median\":\n",
    "        averaged_divided_absolute = np.median(divided_absolute)\n",
    "    return averaged_divided_absolute"
   ]
  },
  {
   "cell_type": "markdown",
   "id": "3T3vEmFCZFK4",
   "metadata": {
    "id": "3T3vEmFCZFK4",
    "iooxa": {
     "id": {
      "block": "eFBhZf2CEbTdc7y3P2Sa",
      "project": "jgvqk8unpXkODpPc9NbF",
      "version": 1
     }
    }
   },
   "source": [
    "Then, we define a function which runs a single instance of $m$ and $n$ through `minimize` iteratively. The `iterate` term determines the number of times the experiment is performed. Averaging over several iterations of the experiment, we reduce the chances of outlier results. In other words, a higher `iterate` term gives a more accurate representation of error in the model.\n",
    "\n",
    "The output `summarized_data` is given as a table of a single row containing the inputted $m$ and $n$ values, the average minimized distance calculated in Eq. $\\ref{eq:dist_eq}$, and the average of various characterizations of the model weight error $\\vec{w}_\\mathrm{err}$. The `solver` term specifies the type of minimization method used. There are numerous <a href=\"https://scipy-lectures.org/advanced/mathematical_optimization/#choosing-a-method\">SciPy Optimize Minimize solvers</a>, some of which support constrainted optimization (e.g. COBYLA and SLSQP)."
   ]
  },
  {
   "cell_type": "code",
   "execution_count": 8,
   "id": "6b3f200f-8545-4cb4-9b2f-323a375d77a6",
   "metadata": {
    "tags": []
   },
   "outputs": [],
   "source": [
    "def run_single(m, n, iterate, solver, bounds_constraint, penalty, filename):\n",
    "    '''\n",
    "    SUMMARY:\n",
    "    Calls minimize function for a single experiment\n",
    "    Creates table and .ecsv file of data run\n",
    "\n",
    "    PARAMETERS:\n",
    "    m (int): number of molecular clouds\n",
    "    n (int): number of emission lines\n",
    "    iterate (int): # of iterations\n",
    "    solver (str): type of SciPy minimize solver\n",
    "    bounds_constraint (bool): determines whether bounds are used for constraint\n",
    "    penalty (bool): determines whether penalty variable is used for constraint\n",
    "    filename (str): .ecsv filename\n",
    "    '''\n",
    "    time_start = time.time()\n",
    "    \n",
    "    # initializing table and lists\n",
    "    summarized_data = Table([])\n",
    "    min_dist = []\n",
    "    mean_error = []\n",
    "    median_error = []\n",
    "    \n",
    "    for k in range(iterate):\n",
    "        result = minimize(m, n, solver, bounds_constraint, penalty)\n",
    "        # appending each iteration to existing lists\n",
    "        min_dist.append(result[\"F(l)\"])\n",
    "        mean_error.append(getPercentError(result[\"input_weights\"], \n",
    "                                          result[\"output_weights\"], \n",
    "                                          \"mean\")\n",
    "                         )\n",
    "        median_error.append(getPercentError(result[\"input_weights\"], \n",
    "                                            result[\"output_weights\"], \n",
    "                                            \"median\")\n",
    "                           )\n",
    "    # saving lists to table\n",
    "    summarized_data['m'] = [m]\n",
    "    summarized_data['n'] = [n]\n",
    "    summarized_data['F(l)'] = [np.average(min_dist)]\n",
    "    summarized_data['Percent Error Mean'] = [np.average(mean_error)]\n",
    "    summarized_data['Percent Error Median'] = [np.average(median_error)]\n",
    "    \n",
    "    # saving and retrieving run in *.ecsv* file\n",
    "    summarized_data.write(f\"{filename}.ecsv\", overwrite=True)\n",
    "    summarized_data = Table.read(f\"{filename}.ecsv\")\n",
    "    print('\\nTime elapsed: {} seconds'\\\n",
    "          .format(round((time.time() - time_start),2)))\n",
    "    return summarized_data"
   ]
  },
  {
   "cell_type": "markdown",
   "id": "94fcae10-d32c-4802-9b8c-a4e95f9f7640",
   "metadata": {},
   "source": [
    "In a similar manner, we define a function which runs multiple instances of $m$ and $n$ through `minimize` iteratively, giving us the ability to test multiple experiements simultaneously. The `m_n_array` term is a specified array of $m$ and $n$ values. The function iteratively runs every possible combination of numerical pairs in `m_n_array` through `minimize`. \n",
    "\n",
    "The output term `summarized_data` is given as a table, where each row contains the inputted $m$ and $n$ value, the average minimized distance calculated in Eq. $\\ref{eq:dist_eq}$, and the average of various characterizations of the model weight error $\\vec{w}_\\mathrm{err}$. Another output term `data` contains the unaveraged data, where each row contains information for each iteration."
   ]
  },
  {
   "cell_type": "code",
   "execution_count": 9,
   "id": "99Xz8fpSK5Td",
   "metadata": {
    "id": "99Xz8fpSK5Td",
    "iooxa": {
     "id": {
      "block": "z2lPO1BY9yqgNd4hQNjs",
      "project": "jgvqk8unpXkODpPc9NbF",
      "version": 1
     },
     "outputId": null
    }
   },
   "outputs": [],
   "source": [
    "def run_multiple(m_n_array, iterate, solver, bounds_constraint, penalty, filename):\n",
    "    '''\n",
    "    SUMMARY:\n",
    "    Calls minimize function for multiple experiments\n",
    "    Creates table and .ecsv file of data run\n",
    "\n",
    "    PARAMETERS:\n",
    "    m_n_array (arr): m and n values\n",
    "    iterate (int): # of iterations\n",
    "    solver (str): type of SciPy minimize solver\n",
    "    bounds_constraint (bool): determines whether bounds are used for constraint\n",
    "    penalty (bool): determines whether penalty variable is used for constraint\n",
    "    filename (str): .ecsv filename\n",
    "    '''\n",
    "    data = Table([])\n",
    "    time_start = time.time()\n",
    "    pbar = tqdm(desc=\"Progress\", total = len(m_n_array)**2*iterate)\n",
    "    tqdm._instances.clear()\n",
    "    \n",
    "    # running iterations for each unique m and n combination\n",
    "    for num_molecular_clouds in m_n_array:\n",
    "        for num_line in m_n_array:\n",
    "            for k in range(iterate):\n",
    "                result = minimize(num_molecular_clouds, \n",
    "                                  num_line, \n",
    "                                  solver, \n",
    "                                  bounds_constraint, \n",
    "                                  penalty\n",
    "                                 )\n",
    "                experiment_data = Table([])\n",
    "                experiment_data[\"m\"] = [num_molecular_clouds]\n",
    "                experiment_data[\"n\"] = [num_line]\n",
    "                experiment_data[\"input_luminosities\"] = \\\n",
    "                    [np.array(str({\"data\": np.array(result[\"input_luminosities\"])}), dtype=str)]\n",
    "                experiment_data[\"input_weights\"] = \\\n",
    "                    [np.array(str({\"data\": np.array(result[\"input_weights\"])}), dtype=str)]\n",
    "                experiment_data[\"output_weights\"] = \\\n",
    "                    [np.array(str({\"data\": np.array(result[\"output_weights\"])}), dtype=str)]\n",
    "                experiment_data[\"F(l)\"] = [result[\"F(l)\"]]\n",
    "                experiment_data[\"Percent Error Mean\"] = \\\n",
    "                    [getPercentError(result[\"input_weights\"], result[\"output_weights\"], \"mean\")]\n",
    "                experiment_data[\"Percent Error Median\"] = \\\n",
    "                    [getPercentError(result[\"input_weights\"], result[\"output_weights\"], \"median\")]\n",
    "                experiment_data[\"Percent Error Max\"] = \\\n",
    "                    [getPercentError(result[\"input_weights\"], result[\"output_weights\"], \"max\")]\n",
    "                data = vstack([data, experiment_data])\n",
    "                pbar.update(1)\n",
    "\n",
    "    # averaging over iterations\n",
    "    summarized_data = Table([])\n",
    "    for i in range(0, len(data), iterate):\n",
    "        row = Table([])\n",
    "        row[\"m\"] = [data[\"m\"][i]]\n",
    "        row[\"n\"] = [data[\"n\"][i]]\n",
    "        row[\"F(l)\"] = \\\n",
    "            [np.average(data[\"F(l)\"][i:i+iterate].data)]\n",
    "        row[\"Percent Error Mean\"] = \\\n",
    "            [np.average(data[\"Percent Error Mean\"][i:i+iterate].data)]\n",
    "        row[\"Percent Error Median\"] = \\\n",
    "            [np.average(data[\"Percent Error Median\"][i:i+iterate].data)]\n",
    "        row[\"Percent Error Max\"] = \\\n",
    "            [np.average(data[\"Percent Error Max\"][i:i+iterate].data)]\n",
    "        summarized_data = vstack([summarized_data, row])\n",
    "\n",
    "    # saving and retrieving run in *.ecsv* file\n",
    "    summarized_data.write(f\"{filename}.ecsv\", overwrite=True)\n",
    "    summarized_data = Table.read(f\"{filename}.ecsv\")\n",
    "    print('\\nTime elapsed: {} seconds'\\\n",
    "          .format(round((time.time() - time_start),2)))\n",
    "    return summarized_data, data"
   ]
  },
  {
   "cell_type": "markdown",
   "id": "f4442f4a-d97b-43d0-8df0-47b7e07cfeb1",
   "metadata": {},
   "source": [
    "Lastly, a plotting function is defined using `pcolormesh` to visualize the output of `run_multiple` in one figure. Each data point in the plot contains a row within `summarized_data`. In other words, each \"pixel\" represents an experiment performed with a given $m$ and $n$ value, averaged over a given amount of iterations."
   ]
  },
  {
   "cell_type": "code",
   "execution_count": 10,
   "id": "rjyheyQqLFe0",
   "metadata": {
    "id": "rjyheyQqLFe0",
    "iooxa": {
     "id": {
      "block": "grQ0g4SvCh8Tl0EDjsBZ",
      "project": "jgvqk8unpXkODpPc9NbF",
      "version": 1
     },
     "outputId": null
    }
   },
   "outputs": [],
   "source": [
    "def plot_colormesh(m_n_array, summarized_data, evaluation_metric, fig_num, description):\n",
    "    '''\n",
    "    SUMMARY:\n",
    "    Creates a colormesh plot of data run\n",
    "\n",
    "    PARAMETERS:\n",
    "    m_n_array (arr): m and n values\n",
    "    summarized_data (astropy.table): table containing data run\n",
    "    evaluation_metric (str): specified statistical metric\n",
    "    fig_num (str): running figure number\n",
    "    description (str): displayed figure description\n",
    "    '''\n",
    "    plt.style.use('_mpl-gallery-nogrid')\n",
    "    fig, ax = plt.subplots(figsize=(4,4))\n",
    "\n",
    "    input_length = len(m_n_array)\n",
    "    graph = ax.pcolormesh(np.array(np.reshape(summarized_data[\"n\"], \n",
    "                                              [input_length, input_length]\n",
    "                                             )),\n",
    "                          np.array(np.reshape(summarized_data[\"m\"], \n",
    "                                              [input_length, input_length]\n",
    "                                             )),\n",
    "                          np.array(np.reshape(summarized_data[evaluation_metric], \n",
    "                                              [input_length, input_length]\n",
    "                                             )),\n",
    "                          shading='nearest',\n",
    "                          vmin=0,\n",
    "                          vmax=100,\n",
    "                          cmap='plasma'\n",
    "                         )\n",
    "    ax.set(xlim=(0, max(m_n_array)), ylim=(0, max(m_n_array)))\n",
    "    ax.set_aspect('equal')\n",
    "    cb = plt.colorbar(graph)\n",
    "    cb.set_label(r'\\rm{}Percent Error')\n",
    "    x1, y1 = [0, max(m_n_array)], [0, max(m_n_array)]\n",
    "    plt.plot(x1, y1, color=\"yellow\")\n",
    "    plt.xlabel(r\"\\rm{}Number of Molecular Emission Lines (n)\", fontsize=18, labelpad=18)\n",
    "    plt.ylabel(r\"\\rm{}Number of Molecular Clouds (m)\", fontsize=18, labelpad=18)\n",
    "    # include figure caption\n",
    "    fig.text(0.43, -.2, f'Fig. {fig_num} {description}', fontsize=12, ha='center')\n",
    "    plt.show()\n",
    "    return fig_num + 1"
   ]
  },
  {
   "cell_type": "markdown",
   "id": "3e9db0c8-d8c5-48c7-82fb-6e49cd9f6dfd",
   "metadata": {
    "id": "3e9db0c8-d8c5-48c7-82fb-6e49cd9f6dfd",
    "iooxa": {
     "id": {
      "block": "qoS8gCV20EDex7TvNoOt",
      "project": "jgvqk8unpXkODpPc9NbF",
      "version": 1
     }
    }
   },
   "source": [
    "# Testing the model"
   ]
  },
  {
   "cell_type": "markdown",
   "id": "6c102c60-ec24-4f32-98cb-eb2c02081f9b",
   "metadata": {},
   "source": [
    "Here, we run a single experiment with 5 molecular clouds and 15 emission lines. This experiment is averaged over 100 iterations."
   ]
  },
  {
   "cell_type": "code",
   "execution_count": 11,
   "id": "6d7c13de-006a-488c-a8c6-5eb4342844e8",
   "metadata": {},
   "outputs": [],
   "source": [
    "m = 5\n",
    "n = 15\n",
    "iterate = 100\n",
    "solver = 'COBYLA'\n",
    "bounds_constraint = True\n",
    "penalty = False\n",
    "filename = 'my_data'"
   ]
  },
  {
   "cell_type": "code",
   "execution_count": 12,
   "id": "89be73dc-1e98-4457-8d59-4b2c85cffac2",
   "metadata": {},
   "outputs": [
    {
     "name": "stdout",
     "output_type": "stream",
     "text": [
      "\n",
      "Time elapsed: 0.28 seconds\n"
     ]
    }
   ],
   "source": [
    "summarized_data = run_single(m, \n",
    "                             n, \n",
    "                             iterate, \n",
    "                             solver, \n",
    "                             bounds_constraint, \n",
    "                             penalty, \n",
    "                             filename\n",
    "                            )"
   ]
  },
  {
   "cell_type": "code",
   "execution_count": 13,
   "id": "851180bc-f511-4589-b144-4229f45efda1",
   "metadata": {},
   "outputs": [
    {
     "data": {
      "text/html": [
       "<div><i>Table length=1</i>\n",
       "<table id=\"table139663107275936\" class=\"table-striped table-bordered table-condensed\">\n",
       "<thead><tr><th>m</th><th>n</th><th>F(l)</th><th>Percent Error Mean</th><th>Percent Error Median</th></tr></thead>\n",
       "<thead><tr><th>int64</th><th>int64</th><th>float64</th><th>float64</th><th>float64</th></tr></thead>\n",
       "<tr><td>5</td><td>15</td><td>0.2581621583853951</td><td>94.25911089620668</td><td>25.874628581476976</td></tr>\n",
       "</table></div>"
      ],
      "text/plain": [
       "<Table length=1>\n",
       "  m     n          F(l)        Percent Error Mean Percent Error Median\n",
       "int64 int64      float64            float64             float64       \n",
       "----- ----- ------------------ ------------------ --------------------\n",
       "    5    15 0.2581621583853951  94.25911089620668   25.874628581476976"
      ]
     },
     "execution_count": 13,
     "metadata": {},
     "output_type": "execute_result"
    }
   ],
   "source": [
    "summarized_data"
   ]
  },
  {
   "cell_type": "markdown",
   "id": "062683ac-f24b-441e-a83d-33e96d13f238",
   "metadata": {},
   "source": [
    "Here, we run multiple experiments with 100 possible combinations of molecular cloud and emission line values. Each experiments is averaged over 100 iterations."
   ]
  },
  {
   "cell_type": "code",
   "execution_count": 14,
   "id": "e4598a3a-9d0f-4a47-9da2-656d8132e1b7",
   "metadata": {},
   "outputs": [
    {
     "name": "stdout",
     "output_type": "stream",
     "text": [
      "10 values for m and n: \n",
      " [ 1  6 11 16 21 26 31 36 41 46]\n",
      "\n"
     ]
    }
   ],
   "source": [
    "m_n_array = np.arange(1,51,5)  # multiple combinations\n",
    "iterate = 50                   # num of iterations over each combination\n",
    "solver = 'COBYLA'\n",
    "bounds_constraint = True\n",
    "penalty = False\n",
    "filename = 'my_data'\n",
    "description = 'multi-experiment run of minimization'\n",
    "print(len(m_n_array),'values for m and n: \\n', m_n_array,end='\\n\\n')"
   ]
  },
  {
   "cell_type": "code",
   "execution_count": 15,
   "id": "uDsxPgr_Erja",
   "metadata": {
    "colab": {
     "base_uri": "https://localhost:8080/"
    },
    "id": "uDsxPgr_Erja",
    "iooxa": {
     "id": {
      "block": "nTx1Hl3JjT3aE7wq8fkw",
      "project": "jgvqk8unpXkODpPc9NbF",
      "version": 1
     },
     "outputId": {
      "block": "oeT6lNlducZKvaTM4uwD",
      "project": "jgvqk8unpXkODpPc9NbF",
      "version": 1
     }
    },
    "outputId": "a995901b-90b1-4e05-bf76-c86791e8e619"
   },
   "outputs": [
    {
     "name": "stderr",
     "output_type": "stream",
     "text": [
      "Progress: 100%|█████████████████████████████| 5000/5000 [16:20<00:00,  5.10it/s]"
     ]
    },
    {
     "name": "stdout",
     "output_type": "stream",
     "text": [
      "\n",
      "Time elapsed: 980.56 seconds\n"
     ]
    },
    {
     "name": "stderr",
     "output_type": "stream",
     "text": [
      "\n"
     ]
    }
   ],
   "source": [
    "summarized_data, data  = run_multiple(m_n_array, \n",
    "                                      iterate, \n",
    "                                      solver, \n",
    "                                      bounds_constraint, \n",
    "                                      penalty, \n",
    "                                      filename\n",
    "                                     )"
   ]
  },
  {
   "cell_type": "code",
   "execution_count": 16,
   "id": "95cc5141-bed3-4c31-afa4-86977b1d3eb0",
   "metadata": {},
   "outputs": [
    {
     "data": {
      "text/html": [
       "<div><i>Table length=10</i>\n",
       "<table id=\"table139663097958448\" class=\"table-striped table-bordered table-condensed\">\n",
       "<thead><tr><th>m</th><th>n</th><th>F(l)</th><th>Percent Error Mean</th><th>Percent Error Median</th><th>Percent Error Max</th></tr></thead>\n",
       "<thead><tr><th>int64</th><th>int64</th><th>float64</th><th>float64</th><th>float64</th><th>float64</th></tr></thead>\n",
       "<tr><td>6</td><td>1</td><td>1.2984842983410934e-08</td><td>251.31267033761867</td><td>58.50075472174936</td><td>1153.7549920978406</td></tr>\n",
       "<tr><td>6</td><td>6</td><td>0.013054962256854754</td><td>140.02735808748238</td><td>70.50912657322493</td><td>494.6086290458383</td></tr>\n",
       "<tr><td>6</td><td>11</td><td>0.1424795021984006</td><td>147.10223696703312</td><td>39.558640064118535</td><td>660.097079862168</td></tr>\n",
       "<tr><td>6</td><td>16</td><td>0.24951989940237163</td><td>85.03248454075052</td><td>29.843910010864143</td><td>343.3090034155021</td></tr>\n",
       "<tr><td>6</td><td>21</td><td>0.4554501125753825</td><td>78.181518160493</td><td>23.94717872995079</td><td>335.2891052463472</td></tr>\n",
       "<tr><td>6</td><td>26</td><td>0.5760688814743458</td><td>54.9828280776979</td><td>19.79142992354043</td><td>232.86348451603962</td></tr>\n",
       "<tr><td>6</td><td>31</td><td>0.769484691544954</td><td>67.86890425981001</td><td>19.073205100588776</td><td>287.4755745331578</td></tr>\n",
       "<tr><td>6</td><td>36</td><td>0.9296607900118322</td><td>98.4871680193358</td><td>14.573214042293095</td><td>494.9957705032012</td></tr>\n",
       "<tr><td>6</td><td>41</td><td>1.0299895534754735</td><td>83.04649628554274</td><td>13.699098016764589</td><td>425.5225278245356</td></tr>\n",
       "<tr><td>6</td><td>46</td><td>1.1644388701248318</td><td>37.392639489560025</td><td>13.639436560960299</td><td>155.05843309157765</td></tr>\n",
       "</table></div>"
      ],
      "text/plain": [
       "<Table length=10>\n",
       "  m     n            F(l)          ... Percent Error Median Percent Error Max \n",
       "int64 int64        float64         ...       float64             float64      \n",
       "----- ----- ---------------------- ... -------------------- ------------------\n",
       "    6     1 1.2984842983410934e-08 ...    58.50075472174936 1153.7549920978406\n",
       "    6     6   0.013054962256854754 ...    70.50912657322493  494.6086290458383\n",
       "    6    11     0.1424795021984006 ...   39.558640064118535   660.097079862168\n",
       "    6    16    0.24951989940237163 ...   29.843910010864143  343.3090034155021\n",
       "    6    21     0.4554501125753825 ...    23.94717872995079  335.2891052463472\n",
       "    6    26     0.5760688814743458 ...    19.79142992354043 232.86348451603962\n",
       "    6    31      0.769484691544954 ...   19.073205100588776  287.4755745331578\n",
       "    6    36     0.9296607900118322 ...   14.573214042293095  494.9957705032012\n",
       "    6    41     1.0299895534754735 ...   13.699098016764589  425.5225278245356\n",
       "    6    46     1.1644388701248318 ...   13.639436560960299 155.05843309157765"
      ]
     },
     "execution_count": 16,
     "metadata": {},
     "output_type": "execute_result"
    }
   ],
   "source": [
    "summarized_data[10:20]"
   ]
  },
  {
   "cell_type": "code",
   "execution_count": 17,
   "id": "xBBpUWEeLuBc",
   "metadata": {
    "colab": {
     "base_uri": "https://localhost:8080/",
     "height": 366
    },
    "id": "xBBpUWEeLuBc",
    "iooxa": {
     "id": {
      "block": "eJMX9U92frjqYSPv3Mlz",
      "project": "jgvqk8unpXkODpPc9NbF",
      "version": 1
     },
     "outputId": {
      "block": "jm8qYopHRdMegfpFZmSs",
      "project": "jgvqk8unpXkODpPc9NbF",
      "version": 1
     }
    },
    "outputId": "6e843fa5-0f9f-49ba-8c70-f86f2d56336e"
   },
   "outputs": [
    {
     "data": {
      "image/png": "[encoded data removed]",
      "text/plain": [
       "<Figure size 400x400 with 2 Axes>"
      ]
     },
     "metadata": {},
     "output_type": "display_data"
    }
   ],
   "source": [
    "fig_num = plot_colormesh(m_n_array, \n",
    "                         summarized_data, \n",
    "                         \"Percent Error Median\", \n",
    "                         fig_num, \n",
    "                         description\n",
    "                        )"
   ]
  },
  {
   "cell_type": "markdown",
   "id": "9471972e-16a7-47de-8508-2d043036043a",
   "metadata": {
    "id": "9471972e-16a7-47de-8508-2d043036043a",
    "iooxa": {
     "id": {
      "block": "GgOy50EKPGwh0E0PwAxA",
      "project": "jgvqk8unpXkODpPc9NbF",
      "version": 1
     }
    }
   },
   "source": [
    "In Fig. 1, the darker pixels represent instances of where $\\vec{w}_{\\mathrm{model}}$ is at a farther distance from $\\vec{w}_{\\mathrm{obs}}$, indicating a higher percent error in the model. There is significantly higher error in the upper triangle region. The predicted weights $\\vec{w}_{\\mathrm{model}}$ have a higher uncertainty where experiments have more molecular clouds ($m$) than emission lines ($n$). As originally predicted, our results are supported by the backbone for systems of linear equations: the system is unsolvable when there are fewer constraints than unknowns."
   ]
  },
  {
   "cell_type": "markdown",
   "id": "439021d4-8ac9-46fe-be9c-3b6cd0b60466",
   "metadata": {
    "id": "439021d4-8ac9-46fe-be9c-3b6cd0b60466",
    "iooxa": {
     "id": {
      "block": "QG0mAu8kUrEyYWHSIzbi",
      "project": "jgvqk8unpXkODpPc9NbF",
      "version": 1
     }
    }
   },
   "source": [
    "# Implementation Notes"
   ]
  },
  {
   "cell_type": "markdown",
   "id": "rjeiZ3_yjx55",
   "metadata": {
    "id": "rjeiZ3_yjx55",
    "iooxa": {
     "id": {
      "block": "g3vFKNjwEU3iTlntJGNj",
      "project": "jgvqk8unpXkODpPc9NbF",
      "version": 1
     }
    }
   },
   "source": [
    "While testing this minimization routine with a different optimization solver, we noticed an odd feature in the pcolormesh plot. A slope of significantly high error resides between our upper and lower triangle regions."
   ]
  },
  {
   "cell_type": "code",
   "execution_count": 18,
   "id": "X8I5qKZRjy3q",
   "metadata": {
    "colab": {
     "base_uri": "https://localhost:8080/",
     "height": 401
    },
    "id": "X8I5qKZRjy3q",
    "iooxa": {
     "id": {
      "block": "SKQ2Rpz5CaIlkI5qqJgH",
      "project": "jgvqk8unpXkODpPc9NbF",
      "version": 1
     },
     "outputId": {
      "block": "gozF5hJTZwkKtL3wOANv",
      "project": "jgvqk8unpXkODpPc9NbF",
      "version": 1
     }
    },
    "outputId": "a17c7ec3-41f0-4b78-d847-f2a57013efd9"
   },
   "outputs": [
    {
     "name": "stderr",
     "output_type": "stream",
     "text": [
      "Progress: 100%|█████████████████████████████| 1000/1000 [00:45<00:00, 22.12it/s]"
     ]
    },
    {
     "name": "stdout",
     "output_type": "stream",
     "text": [
      "\n",
      "Time elapsed: 45.21 seconds\n"
     ]
    },
    {
     "name": "stderr",
     "output_type": "stream",
     "text": [
      "\n"
     ]
    }
   ],
   "source": [
    "solver = 'BFGS'\n",
    "bounds_constraint = False\n",
    "penalty = False\n",
    "iterate = 10\n",
    "description = 'unconstrained run of minimization'\n",
    "summarized_data, data  = run_multiple(m_n_array, \n",
    "                                      iterate, solver, \n",
    "                                      bounds_constraint, \n",
    "                                      penalty, \n",
    "                                      filename\n",
    "                                     )"
   ]
  },
  {
   "cell_type": "code",
   "execution_count": 19,
   "id": "5654d294-ca8d-4325-8600-03462d372f9e",
   "metadata": {
    "tags": []
   },
   "outputs": [
    {
     "data": {
      "image/png": "[encoded data removed]",
      "text/plain": [
       "<Figure size 400x400 with 2 Axes>"
      ]
     },
     "metadata": {},
     "output_type": "display_data"
    }
   ],
   "source": [
    "fig_num = plot_colormesh(m_n_array, \n",
    "                         summarized_data, \n",
    "                         \"Percent Error Median\", \n",
    "                         fig_num, \n",
    "                         description\n",
    "                        )"
   ]
  },
  {
   "cell_type": "markdown",
   "id": "f75b4510",
   "metadata": {},
   "source": [
    "Upon inspection of the `data` output below, we noticed negative weights in the `output_weights` column were being predicted by the minimization routine. This is an issue since a model galaxy with negative weights is unphysical."
   ]
  },
  {
   "cell_type": "code",
   "execution_count": 20,
   "id": "43c387d0",
   "metadata": {},
   "outputs": [
    {
     "data": {
      "text/html": [
       "<div><i>Table length=1</i>\n",
       "<table id=\"table139663107550672\" class=\"table-striped table-bordered table-condensed\">\n",
       "<thead><tr><th>m</th><th>n</th><th>input_luminosities</th><th>input_weights</th><th>output_weights</th><th>F(l)</th><th>Percent Error Mean</th><th>Percent Error Median</th><th>Percent Error Max</th></tr></thead>\n",
       "<thead><tr><th>int64</th><th>int64</th><th>str17720</th><th>str830</th><th>str876</th><th>float64</th><th>float64</th><th>float64</th><th>float64</th></tr></thead>\n",
       "<tr><td>6</td><td>6</td><td>{&apos;data&apos;: array([[8.40065643e-01, 4.27654170e-01, 1.16879239e-01, 1.26541318e-01,\\n        6.77206349e-01, 8.71224911e-01],\\n       [7.56305676e-01, 8.61840461e-01, 2.86054545e-01, 5.54413865e-01,\\n        1.43245516e-01, 8.13826367e-01],\\n       [1.60366888e-02, 9.51069623e-01, 2.74598048e-01, 2.49672134e-01,\\n        5.99660779e-01, 1.55181869e-02],\\n       [2.57308635e-01, 2.91432912e-01, 1.25301076e-01, 6.13135351e-01,\\n        7.49262613e-01, 1.70393192e-01],\\n       [5.04293450e-01, 7.90128679e-01, 8.29741169e-04, 9.75918341e-01,\\n        4.45608110e-01, 9.46387797e-01],\\n       [5.22760133e-01, 5.39992730e-01, 7.69244487e-01, 9.44516981e-01,\\n        7.18878435e-01, 1.67709893e-01]])}</td><td>{&apos;data&apos;: array([0.84215695, 0.73379703, 0.03399379, 0.83854725, 0.90267103,\\n       0.17274516])}</td><td>{&apos;data&apos;: array([0.85368238, 0.85056221, 0.23991849, 0.62926718, 0.79693263,\\n       0.20858208])}</td><td>3.670158867765364e-10</td><td>113.4115829958186</td><td>18.329002720177602</td><td>605.7715285522087</td></tr>\n",
       "</table></div>"
      ],
      "text/plain": [
       "<Table length=1>\n",
       "  m     n   ... Percent Error Median Percent Error Max\n",
       "int64 int64 ...       float64             float64     \n",
       "----- ----- ... -------------------- -----------------\n",
       "    6     6 ...   18.329002720177602 605.7715285522087"
      ]
     },
     "execution_count": 20,
     "metadata": {},
     "output_type": "execute_result"
    }
   ],
   "source": [
    "data[110:120:30]"
   ]
  },
  {
   "cell_type": "markdown",
   "id": "Bs0OkVUVkBM3",
   "metadata": {
    "id": "Bs0OkVUVkBM3",
    "iooxa": {
     "id": {
      "block": "zgnasfXXkxeBoqhogTKs",
      "project": "jgvqk8unpXkODpPc9NbF",
      "version": 1
     }
    }
   },
   "source": [
    "One solution to this is to use a contrained solver and add a penalty term (Eq. $\\ref{eq:penalty_eq}$) within the function we are minimizing (Eq. $\\ref{eq:dist_eq}$)"
   ]
  },
  {
   "cell_type": "code",
   "execution_count": 21,
   "id": "iSNjcvZAj1yz",
   "metadata": {
    "colab": {
     "base_uri": "https://localhost:8080/",
     "height": 401
    },
    "id": "iSNjcvZAj1yz",
    "iooxa": {
     "id": {
      "block": "bYfsRzFzZ1vIG9zCcaKa",
      "project": "jgvqk8unpXkODpPc9NbF",
      "version": 1
     },
     "outputId": {
      "block": "VeZd3obpM4bkGjifgqeH",
      "project": "jgvqk8unpXkODpPc9NbF",
      "version": 1
     }
    },
    "outputId": "22f534c2-2895-45e1-cc1f-6c0eb51b0837"
   },
   "outputs": [
    {
     "name": "stderr",
     "output_type": "stream",
     "text": [
      "Progress: 100%|█████████████████████████████| 1000/1000 [00:54<00:00, 18.46it/s]"
     ]
    },
    {
     "name": "stdout",
     "output_type": "stream",
     "text": [
      "\n",
      "Time elapsed: 54.17 seconds\n"
     ]
    },
    {
     "name": "stderr",
     "output_type": "stream",
     "text": [
      "\n"
     ]
    }
   ],
   "source": [
    "solver = 'COBYLA'\n",
    "bounds_constraint = False\n",
    "penalty = True\n",
    "description = 'penalty run of minimization'\n",
    "summarized_data, data = run_multiple(m_n_array, \n",
    "                                     iterate, \n",
    "                                     solver, \n",
    "                                     bounds_constraint, \n",
    "                                     penalty, \n",
    "                                     filename\n",
    "                                    )"
   ]
  },
  {
   "cell_type": "code",
   "execution_count": 22,
   "id": "9388cbcc-b141-4b0d-922e-e2a8f54b5ef8",
   "metadata": {},
   "outputs": [
    {
     "data": {
      "image/png": "[encoded data removed]",
      "text/plain": [
       "<Figure size 400x400 with 2 Axes>"
      ]
     },
     "metadata": {},
     "output_type": "display_data"
    }
   ],
   "source": [
    "fig_num = plot_colormesh(m_n_array, \n",
    "                         summarized_data, \n",
    "                         \"Percent Error Median\", \n",
    "                         fig_num, \n",
    "                         description\n",
    "                        )"
   ]
  },
  {
   "cell_type": "markdown",
   "id": "1ogm8tlXkMe_",
   "metadata": {
    "id": "1ogm8tlXkMe_",
    "iooxa": {
     "id": {
      "block": "Q5W2zZqVe07R3X9F28xD",
      "project": "jgvqk8unpXkODpPc9NbF",
      "version": 1
     }
    }
   },
   "source": [
    "Another solution is to use a constrained solver and adjust the bounds directly within the `scipy.optimize.minimize` function. "
   ]
  },
  {
   "cell_type": "code",
   "execution_count": 23,
   "id": "DZ0GR8MekP0s",
   "metadata": {
    "colab": {
     "base_uri": "https://localhost:8080/",
     "height": 401
    },
    "id": "DZ0GR8MekP0s",
    "iooxa": {
     "id": {
      "block": "Gh0nOqnu6294llqyUyX2",
      "project": "jgvqk8unpXkODpPc9NbF",
      "version": 1
     },
     "outputId": {
      "block": "GuCM7vlL6nSroSXXG3dP",
      "project": "jgvqk8unpXkODpPc9NbF",
      "version": 1
     }
    },
    "outputId": "7ba2c44e-4eb7-4302-8c18-bb7b941c4a09"
   },
   "outputs": [
    {
     "name": "stderr",
     "output_type": "stream",
     "text": [
      "Progress: 100%|█████████████████████████████| 1000/1000 [00:59<00:00, 16.78it/s]"
     ]
    },
    {
     "name": "stdout",
     "output_type": "stream",
     "text": [
      "\n",
      "Time elapsed: 59.59 seconds\n"
     ]
    },
    {
     "name": "stderr",
     "output_type": "stream",
     "text": [
      "\n"
     ]
    }
   ],
   "source": [
    "bounds_constraint = True\n",
    "penalty = False\n",
    "description = 'bounds constraint run of minimization'\n",
    "summarized_data, data  = run_multiple(m_n_array, \n",
    "                                      iterate, \n",
    "                                      solver, \n",
    "                                      bounds_constraint, \n",
    "                                      penalty, \n",
    "                                      filename\n",
    "                                     )"
   ]
  },
  {
   "cell_type": "code",
   "execution_count": 24,
   "id": "31b1ce32",
   "metadata": {},
   "outputs": [
    {
     "data": {
      "image/png": "[encoded data removed]",
      "text/plain": [
       "<Figure size 400x400 with 2 Axes>"
      ]
     },
     "metadata": {},
     "output_type": "display_data"
    }
   ],
   "source": [
    "fig_num = plot_colormesh(m_n_array, \n",
    "                         summarized_data, \n",
    "                         \"Percent Error Median\", \n",
    "                         fig_num, \n",
    "                         description\n",
    "                        )"
   ]
  },
  {
   "cell_type": "markdown",
   "id": "r_UmdEUxkT5u",
   "metadata": {
    "id": "r_UmdEUxkT5u",
    "iooxa": {
     "id": {
      "block": "SSk9rALvIqmBCzEoL0i5",
      "project": "jgvqk8unpXkODpPc9NbF",
      "version": 1
     }
    }
   },
   "source": [
    "Comparing these two solutions shown in Fig. 3 and Fig. 4, both are able to remove the unwanted negative weights. However, the bounds method is more desirable due to the penalty term having the potential to cause issues within the optimization function's derivative computations over Eq. $\\ref{eq:dist_eq}$."
   ]
  }
 ],
 "metadata": {
  "colab": {
   "provenance": []
  },
  "iooxa": {
   "id": {
    "block": "6Z4AXXiyrAOmk1az9Uwz",
    "project": "jgvqk8unpXkODpPc9NbF",
    "version": 1
   }
  },
  "kernelspec": {
   "display_name": "Python 3 (ipykernel)",
   "language": "python",
   "name": "python3"
  },
  "language_info": {
   "codemirror_mode": {
    "name": "ipython",
    "version": 3
   },
   "file_extension": ".py",
   "mimetype": "text/x-python",
   "name": "python",
   "nbconvert_exporter": "python",
   "pygments_lexer": "ipython3",
   "version": "3.9.16"
  }
 },
 "nbformat": 4,
 "nbformat_minor": 5
}
